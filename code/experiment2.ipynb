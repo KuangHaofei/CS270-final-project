{
 "cells": [
  {
   "cell_type": "code",
   "execution_count": 1,
   "metadata": {},
   "outputs": [],
   "source": [
    "import numpy as np\n",
    "import cv2\n",
    "import matplotlib.pyplot as plt"
   ]
  },
  {
   "cell_type": "markdown",
   "metadata": {},
   "source": [
    "### Functions"
   ]
  },
  {
   "cell_type": "code",
   "execution_count": 2,
   "metadata": {},
   "outputs": [],
   "source": [
    "def high_pass_filter(ht, wd):\n",
    "    eta = np.cos(np.pi * np.linspace(-0.5, 0.5, num=ht)).reshape(1, ht)\n",
    "    neta = np.cos(np.pi * np.linspace(-0.5, 0.5, num=wd)).reshape(1, wd)\n",
    "\n",
    "    X = np.dot(eta.T, neta)\n",
    "\n",
    "    H = (1.0 - X) * (2.0 - X)\n",
    "\n",
    "    return H"
   ]
  },
  {
   "cell_type": "code",
   "execution_count": 110,
   "metadata": {},
   "outputs": [],
   "source": [
    "def log_polar(img):\n",
    "    img_lp = None\n",
    "    \n",
    "    Y, X = img.shape\n",
    "    \n",
    "    # find center\n",
    "    Xc = (1 + X) / 2\n",
    "    Yc = (1 + Y) / 2\n",
    "    \n",
    "    # Calculate log base and angle increments\n",
    "    base = np.exp(np.log(Xc - 1) / (Xc - 1))\n",
    "    dtheta = np.pi/Y\n",
    "    \n",
    "    # Build x-y coordinates of log-polar points\n",
    "    Xin = np.zeros([Y,X], np.float32)\n",
    "    Yin = np.zeros([Y,X], np.float32)\n",
    "\n",
    "    for y in range(Y):\n",
    "        theta = y * dtheta\n",
    "        for x in range(X):\n",
    "            r = base**(x/2) - 1\n",
    "            Xin[y, x] = r * np.cos(theta) + Xc\n",
    "            Yin[y, x] = r * np.sin(theta) + Yc\n",
    "\n",
    "    # remap\n",
    "    img_lp = cv2.remap(img, Xin, Yin, cv2.INTER_CUBIC)\n",
    "    \n",
    "    img_lp = np.nan_to_num(img_lp)\n",
    "    \n",
    "    return img_lp, base"
   ]
  },
  {
   "cell_type": "markdown",
   "metadata": {},
   "source": [
    "## Loading image and generate new image"
   ]
  },
  {
   "cell_type": "code",
   "execution_count": 122,
   "metadata": {},
   "outputs": [],
   "source": [
    "img_r = cv2.imread('lena.png', 0)\n",
    "rows, cols = img_r.shape\n",
    "\n",
    "#########################################################\n",
    "# create a transfered image\n",
    "# translation testing\n",
    "tx = 105.\n",
    "ty = -115.\n",
    "theta = 45\n",
    "scale = 1.2\n",
    "\n",
    "M_T = np.float32([[1, 0, tx],\n",
    "                  [0, 1, ty]])\n",
    "\n",
    "img_s = cv2.warpAffine(img_r, M_T, (cols, rows))\n",
    "\n",
    "M_RS = cv2.getRotationMatrix2D((cols/2, rows/2), theta, scale)\n",
    "img_s = cv2.warpAffine(img_s, M_RS, (cols, rows))\n",
    "\n",
    "# plt.figure()\n",
    "# plt.imshow(img_r, cmap='gray')\n",
    "# plt.title('Input Image 1'), plt.xticks([]), plt.yticks([])\n",
    "# plt.figure()\n",
    "# plt.imshow(img_s, cmap='gray')\n",
    "# plt.title('Input Image 2'), plt.xticks([]), plt.yticks([])\n",
    "# plt.show()"
   ]
  },
  {
   "cell_type": "markdown",
   "metadata": {},
   "source": [
    "### Scaling Estimation"
   ]
  },
  {
   "cell_type": "code",
   "execution_count": 123,
   "metadata": {
    "scrolled": true
   },
   "outputs": [
    {
     "name": "stdout",
     "output_type": "stream",
     "text": [
      "45.0 1.2025117415216577\n"
     ]
    }
   ],
   "source": [
    "# fourier transfer\n",
    "f_r = np.fft.fft2(img_r)\n",
    "f_r_shift = np.fft.fftshift(f_r)\n",
    "f_r_mag = np.abs(f_r_shift)\n",
    "\n",
    "f_s = np.fft.fft2(img_s)\n",
    "f_s_shift = np.fft.fftshift(f_s)\n",
    "f_s_mag = np.abs(f_s_shift)\n",
    "\n",
    "# plt.subplot(221), plt.imshow(np.log(f_r_mag), cmap='gray')\n",
    "# plt.title('Spectrum Image R'), plt.xticks([]), plt.yticks([])\n",
    "# plt.subplot(222), plt.imshow(np.log(f_s_mag), cmap='gray')\n",
    "# plt.title('Spectrum Image S'), plt.xticks([]), plt.yticks([])\n",
    "\n",
    "# high pass filter\n",
    "H = high_pass_filter(rows, cols)\n",
    "f_r_hp = H * f_r_mag\n",
    "f_s_hp = H * f_s_mag\n",
    "\n",
    "# plt.subplot(223), plt.imshow(f_r_hp, cmap='gray')\n",
    "# plt.title('HP Spectrum Image R'), plt.xticks([]), plt.yticks([])\n",
    "# plt.subplot(224), plt.imshow(f_s_hp, cmap='gray')\n",
    "# plt.title('HP Spectrum Image S'), plt.xticks([]), plt.yticks([])\n",
    "\n",
    "# log-polar and cross\n",
    "lp_r, _ = log_polar(f_r_hp)\n",
    "cp_r = np.fft.fft2(lp_r)\n",
    "\n",
    "lp_s, base = log_polar(f_s_hp)\n",
    "cp_s = np.fft.fft2(lp_s)\n",
    "\n",
    "# phase shift and cross power spectrum\n",
    "phase_shift = np.exp(1j * (np.angle(cp_r) - np.angle(cp_s)))\n",
    "cps = np.real(np.fft.ifft2(phase_shift))\n",
    "\n",
    "y_max, x_max = np.unravel_index(cps.argmax(), cps.shape)\n",
    "\n",
    "theta = 180 * (y_max) / rows\n",
    "if theta > 90:\n",
    "    theta -= 180\n",
    "    \n",
    "scale = 0\n",
    "if x_max > cols / 2:\n",
    "    scale = x_max - cols\n",
    "else:\n",
    "    scale = x_max \n",
    "\n",
    "scale = base**(scale/2)\n",
    "\n",
    "print(theta, scale)"
   ]
  },
  {
   "cell_type": "code",
   "execution_count": 1,
   "metadata": {},
   "outputs": [],
   "source": [
    "import time"
   ]
  },
  {
   "cell_type": "code",
   "execution_count": 2,
   "metadata": {},
   "outputs": [
    {
     "name": "stdout",
     "output_type": "stream",
     "text": [
      "--- 0.02872633934020996 seconds ---\n"
     ]
    }
   ],
   "source": [
    "start_time = time.time()\n",
    "for y in range(512):\n",
    "    for x in range(512):\n",
    "        c = x + y\n",
    "print(\"--- %s seconds ---\" % (time.time() - start_time))"
   ]
  }
 ],
 "metadata": {
  "kernelspec": {
   "display_name": "Python 3",
   "language": "python",
   "name": "python3"
  },
  "language_info": {
   "codemirror_mode": {
    "name": "ipython",
    "version": 3
   },
   "file_extension": ".py",
   "mimetype": "text/x-python",
   "name": "python",
   "nbconvert_exporter": "python",
   "pygments_lexer": "ipython3",
   "version": "3.7.1"
  }
 },
 "nbformat": 4,
 "nbformat_minor": 2
}
